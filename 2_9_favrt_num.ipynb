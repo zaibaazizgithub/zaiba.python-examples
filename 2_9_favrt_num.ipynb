{
  "nbformat": 4,
  "nbformat_minor": 0,
  "metadata": {
    "colab": {
      "provenance": [],
      "authorship_tag": "ABX9TyM+WY0A+giEIlY7Q5CPPB9S",
      "include_colab_link": true
    },
    "kernelspec": {
      "name": "python3",
      "display_name": "Python 3"
    },
    "language_info": {
      "name": "python"
    }
  },
  "cells": [
    {
      "cell_type": "markdown",
      "metadata": {
        "id": "view-in-github",
        "colab_type": "text"
      },
      "source": [
        "<a href=\"https://colab.research.google.com/github/zaibaazizgithub/zaiba.python-examples/blob/main/2_9_favrt_num.ipynb\" target=\"_parent\"><img src=\"https://colab.research.google.com/assets/colab-badge.svg\" alt=\"Open In Colab\"/></a>"
      ]
    },
    {
      "cell_type": "code",
      "execution_count": null,
      "metadata": {
        "colab": {
          "base_uri": "https://localhost:8080/"
        },
        "id": "8XbIyQW0DdLH",
        "outputId": "8c5909ff-5579-440c-b982-cacfe0a3afc6"
      },
      "outputs": [
        {
          "output_type": "stream",
          "name": "stdout",
          "text": [
            "My zaiba number is 42.\n"
          ]
        }
      ],
      "source": [
        "zaiba_num = 42\n",
        "msg_zaiba = f\"My zaiba number is {zaiba_num}.\"\n",
        "\n",
        "print(msg_zaiba)"
      ]
    }
  ]
}