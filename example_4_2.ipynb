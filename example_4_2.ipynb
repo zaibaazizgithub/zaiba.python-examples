{
  "nbformat": 4,
  "nbformat_minor": 0,
  "metadata": {
    "colab": {
      "provenance": [],
      "authorship_tag": "ABX9TyP+uaN5hJl7HuLx5TMaUad0",
      "include_colab_link": true
    },
    "kernelspec": {
      "name": "python3",
      "display_name": "Python 3"
    },
    "language_info": {
      "name": "python"
    }
  },
  "cells": [
    {
      "cell_type": "markdown",
      "metadata": {
        "id": "view-in-github",
        "colab_type": "text"
      },
      "source": [
        "<a href=\"https://colab.research.google.com/github/zaibaazizgithub/zaiba.python-examples/blob/main/example_4_2.ipynb\" target=\"_parent\"><img src=\"https://colab.research.google.com/assets/colab-badge.svg\" alt=\"Open In Colab\"/></a>"
      ]
    },
    {
      "cell_type": "code",
      "execution_count": null,
      "metadata": {
        "colab": {
          "base_uri": "https://localhost:8080/"
        },
        "id": "sn1b6isH7GBc",
        "outputId": "ab9d859f-daec-4dba-8ea8-a63b6f46275f"
      },
      "outputs": [
        {
          "output_type": "stream",
          "name": "stdout",
          "text": [
            "dog\n",
            "cat\n",
            "camel\n",
            "\n",
            "\n",
            "a dog would make a great pet dog animal_zaiba!\n",
            "a dog would make a great pet cat animal_zaiba!\n",
            "a dog would make a great pet camel animal_zaiba!\n",
            "\n",
            "I really love animal!\n"
          ]
        }
      ],
      "source": [
        "favorite_animals_zaiba = ['dog', 'cat', 'camel']\n",
        "\n",
        "# Print the names of all the animals_zaiba.\n",
        "for animal_zaiba in favorite_animals_zaiba:\n",
        "    print(animal_zaiba)\n",
        "\n",
        "print(\"\\n\")\n",
        "\n",
        "# Print a sentence about each animal_zaiba.\n",
        "for animal_zaiba in favorite_animals_zaiba:\n",
        "    print(f\"a dog would make a great pet {animal_zaiba} animal_zaiba!\")\n",
        "\n",
        "print(\"\\nI really love animal!\")"
      ]
    },
    {
      "cell_type": "markdown",
      "source": [
        "4-2. Animals: Think of at least three different animals that have a common char\u0002acteristic. Store the names of these animals in a list, and then use a for loop to \n",
        "print out the name of each animal.\n",
        "•\t Modify your program to print a statement about each animal, such as \n",
        "A dog would make a great pet.\n",
        "•\t Add a line at the end of your program stating what these animals have in \n",
        "common. You could print a sentence such as Any of these animals would \n",
        "make a great pet!"
      ],
      "metadata": {
        "id": "UWh61mr99Mu-"
      }
    }
  ]
}