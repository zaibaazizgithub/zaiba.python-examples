{
  "nbformat": 4,
  "nbformat_minor": 0,
  "metadata": {
    "colab": {
      "provenance": [],
      "authorship_tag": "ABX9TyMzj4BN3WY1kCnDsslXW7tS",
      "include_colab_link": true
    },
    "kernelspec": {
      "name": "python3",
      "display_name": "Python 3"
    },
    "language_info": {
      "name": "python"
    }
  },
  "cells": [
    {
      "cell_type": "markdown",
      "metadata": {
        "id": "view-in-github",
        "colab_type": "text"
      },
      "source": [
        "<a href=\"https://colab.research.google.com/github/zaibaazizgithub/zaiba.python-examples/blob/main/example_3_7.ipynb\" target=\"_parent\"><img src=\"https://colab.research.google.com/assets/colab-badge.svg\" alt=\"Open In Colab\"/></a>"
      ]
    },
    {
      "cell_type": "code",
      "execution_count": null,
      "metadata": {
        "colab": {
          "base_uri": "https://localhost:8080/"
        },
        "id": "KYWPmdQ3x4n_",
        "outputId": "6d1dc4aa-5440-44e4-a880-21bbe634dc6c"
      },
      "outputs": [
        {
          "output_type": "stream",
          "name": "stdout",
          "text": [
            "Asad Ullah, please come to dinner.\n",
            "Sami Ullah, please come to dinner.\n",
            "Haseeb Ullah, please come to dinner.\n",
            "\n",
            "Sorry, Sami Ullah can't make it to dinner.\n",
            "\n",
            "Asad Ullah, please come to dinner.\n",
            "Abdul Aziz, please come to dinner.\n",
            "Haseeb Ullah, please come to dinner.\n",
            "\n",
            "We got a bigger table!\n",
            "Sami, please come to dinner.\n",
            "Asad Ullah, please come to dinner.\n",
            "Saif, please come to dinner.\n",
            "Abdul Aziz, please come to dinner.\n",
            "Haseeb Ullah, please come to dinner.\n",
            "Asad, please come to dinner.\n",
            "\n",
            "Sorry, we can only invite two people to dinner.\n",
            "Sorry, Asad there's no room at the table.\n",
            "Sorry, Haseeb Ullah there's no room at the table.\n",
            "Sorry, Abdul Aziz there's no room at the table.\n",
            "Sorry, Saif there's no room at the table.\n",
            "Sami, please come to dinner.\n",
            "Asad Ullah, please come to dinner.\n",
            "[]\n"
          ]
        }
      ],
      "source": [
        "# Invite some people to dinner.\n",
        "guests = ['asad ullah', 'sami ullah', 'Haseeb ullah']\n",
        "\n",
        "name_zaiba = guests[0].title()\n",
        "print(f\"{name_zaiba}, please come to dinner.\")\n",
        "\n",
        "name_zaiba = guests[1].title()\n",
        "print(f\"{name_zaiba}, please come to dinner.\")\n",
        "\n",
        "name_zaiba = guests[2].title()\n",
        "print(f\"{name_zaiba}, please come to dinner.\")\n",
        "\n",
        "name_zaiba = guests[1].title()\n",
        "print(f\"\\nSorry, {name_zaiba} can't make it to dinner.\")\n",
        "\n",
        "# sami can't make it! Let's invite saif instead.\n",
        "del(guests[1])\n",
        "guests.insert(1, 'abdul aziz')\n",
        "\n",
        "# Print the invitations again.\n",
        "name_zaiba = guests[0].title()\n",
        "print(f\"\\n{name_zaiba}, please come to dinner.\")\n",
        "\n",
        "name_zaiba = guests[1].title()\n",
        "print(f\"{name_zaiba}, please come to dinner.\")\n",
        "\n",
        "name_zaiba = guests[2].title()\n",
        "print(f\"{name_zaiba}, please come to dinner.\")\n",
        "\n",
        "# We got a bigger table, so let's add some more people to the list.\n",
        "print(\"\\nWe got a bigger table!\")\n",
        "guests.insert(0, 'sami')\n",
        "guests.insert(2, 'saif')\n",
        "guests.append('asad')\n",
        "\n",
        "name_zaiba = guests[0].title()\n",
        "print(f\"{name_zaiba}, please come to dinner.\")\n",
        "\n",
        "name_zaiba = guests[1].title()\n",
        "print(f\"{name_zaiba}, please come to dinner.\")\n",
        "\n",
        "name_zaiba = guests[2].title()\n",
        "print(f\"{name_zaiba}, please come to dinner.\")\n",
        "\n",
        "name_zaiba = guests[3].title()\n",
        "print(f\"{name_zaiba}, please come to dinner.\")\n",
        "\n",
        "name_zaiba = guests[4].title()\n",
        "print(f\"{name_zaiba}, please come to dinner.\")\n",
        "\n",
        "name_zaiba = guests[5].title()\n",
        "print(f\"{name_zaiba}, please come to dinner.\")\n",
        "\n",
        "# Oh no, the table won't arrive on time!\n",
        "print(\"\\nSorry, we can only invite two people to dinner.\")\n",
        "\n",
        "name_zaiba = guests.pop()\n",
        "print(f\"Sorry, {name_zaiba.title()} there's no room at the table.\")\n",
        "\n",
        "name_zaiba = guests.pop()\n",
        "print(f\"Sorry, {name_zaiba.title()} there's no room at the table.\")\n",
        "\n",
        "name_zaiba = guests.pop()\n",
        "print(f\"Sorry, {name_zaiba.title()} there's no room at the table.\")\n",
        "\n",
        "name_zaiba = guests.pop()\n",
        "print(f\"Sorry, {name_zaiba.title()} there's no room at the table.\")\n",
        "\n",
        "# There should be two people left. Let's invite them.\n",
        "name_zaiba = guests[0].title()\n",
        "print(f\"{name_zaiba}, please come to dinner.\")\n",
        "\n",
        "name_zaiba = guests[1].title()\n",
        "print(f\"{name_zaiba}, please come to dinner.\")\n",
        "\n",
        "# Empty out the list.\n",
        "del(guests[0])\n",
        "del(guests[0])\n",
        "\n",
        "# Prove the list is empty.\n",
        "print(guests)"
      ]
    },
    {
      "cell_type": "markdown",
      "source": [
        "3-7: Shrinking Guest List\n",
        "You just found out that your new dinner table won’t arrive in time for the dinner, and you have space for only two guests.\n",
        "\n",
        "Start with your program from Exercise 3-6. Add a new line that prints a message saying that you can invite only two people for dinner.\n",
        "Use pop() to remove guests from your list one at a time until only two names remain in your list. Each time you pop a name from your list, print a message to that person letting them know you’re sorry you can’t invite them to dinner.\n",
        "Print a message to each of the two people still on your list, letting them know they’re still invited.\n",
        "Use del to remove the last two names from your list, so you have an empty list. Print your list to make sure you actually have an empty list at the end of your program."
      ],
      "metadata": {
        "id": "k_ptmu1FyAA3"
      }
    }
  ]
}