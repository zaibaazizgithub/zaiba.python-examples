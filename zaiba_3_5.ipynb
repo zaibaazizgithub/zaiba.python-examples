{
  "nbformat": 4,
  "nbformat_minor": 0,
  "metadata": {
    "colab": {
      "provenance": [],
      "authorship_tag": "ABX9TyOiLML5zcCBO2mxuqoDIKKb",
      "include_colab_link": true
    },
    "kernelspec": {
      "name": "python3",
      "display_name": "Python 3"
    },
    "language_info": {
      "name": "python"
    }
  },
  "cells": [
    {
      "cell_type": "markdown",
      "metadata": {
        "id": "view-in-github",
        "colab_type": "text"
      },
      "source": [
        "<a href=\"https://colab.research.google.com/github/zaibaazizgithub/zaiba.python-examples/blob/main/zaiba_3_5.ipynb\" target=\"_parent\"><img src=\"https://colab.research.google.com/assets/colab-badge.svg\" alt=\"Open In Colab\"/></a>"
      ]
    },
    {
      "cell_type": "code",
      "execution_count": null,
      "metadata": {
        "id": "nPIxhspSncqT",
        "colab": {
          "base_uri": "https://localhost:8080/"
        },
        "outputId": "41e9e494-9bb1-4194-d131-6dfddafa6e78"
      },
      "outputs": [
        {
          "output_type": "stream",
          "name": "stdout",
          "text": [
            "Saif Ullah, please come to dinner.\n",
            "Sami Ullah, please come to dinner.\n",
            "Asad Ullah, please come to dinner.\n",
            "\n",
            "Sorry, Sami Ullah can't make it to dinner.\n",
            "\n",
            "Saif Ullah, please come to dinner.\n",
            "Abdul Hadi, please come to dinner.\n",
            "Asad Ullah, please come to dinner.\n"
          ]
        }
      ],
      "source": [
        "# Invite some people to dinner.\n",
        "guests = ['saif ullah', 'sami ullah', 'asad ullah']\n",
        "\n",
        "name = guests[0].title()\n",
        "print(f\"{name}, please come to dinner.\")\n",
        "\n",
        "name_zaiba = guests[1].title()\n",
        "print(f\"{name_zaiba}, please come to dinner.\")\n",
        "\n",
        "name_zaiba = guests[2].title()\n",
        "print(f\"{name_zaiba}, please come to dinner.\")\n",
        "\n",
        "name_zaiba = guests[1].title()\n",
        "print(f\"\\nSorry, {name_zaiba} can't make it to dinner.\")\n",
        "\n",
        "# Jack can't make it! Let's invite Gary instead.\n",
        "del(guests[1])\n",
        "guests.insert(1, 'abdul hadi')\n",
        "\n",
        "# Print the invitations again.\n",
        "name_zaiba = guests[0].title()\n",
        "print(f\"\\n{name_zaiba}, please come to dinner.\")\n",
        "\n",
        "name_zaiba = guests[1].title()\n",
        "print(f\"{name_zaiba}, please come to dinner.\")\n",
        "\n",
        "name_zaiba = guests[2].title()\n",
        "print(f\"{name_zaiba}, please come to dinner.\")"
      ]
    },
    {
      "cell_type": "markdown",
      "source": [
        "3-5: Changing Guest List\n",
        "You just heard that one of your guests can’t make the dinner, so you need to send out a new set of invitations. You’ll have to think of someone else to invite.\n",
        "\n",
        "Start with your program from Exercise 3-4. Add a print statement at the end of your program stating the name of the guest who can’t make it.\n",
        "Modify your list, replacing the name of the guest who can’t make it with the name of the new person you are inviting.\n",
        "Print a second set of invitation messages, one for each person who is still in your list."
      ],
      "metadata": {
        "id": "UJW67A9xpBFz"
      }
    }
  ]
}