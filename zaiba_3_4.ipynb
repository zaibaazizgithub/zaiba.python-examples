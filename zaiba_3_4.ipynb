{
  "nbformat": 4,
  "nbformat_minor": 0,
  "metadata": {
    "colab": {
      "provenance": [],
      "authorship_tag": "ABX9TyMb5ZLyYqgqowMlwmLNuC1N",
      "include_colab_link": true
    },
    "kernelspec": {
      "name": "python3",
      "display_name": "Python 3"
    },
    "language_info": {
      "name": "python"
    }
  },
  "cells": [
    {
      "cell_type": "markdown",
      "metadata": {
        "id": "view-in-github",
        "colab_type": "text"
      },
      "source": [
        "<a href=\"https://colab.research.google.com/github/zaibaazizgithub/zaiba.python-examples/blob/main/zaiba_3_4.ipynb\" target=\"_parent\"><img src=\"https://colab.research.google.com/assets/colab-badge.svg\" alt=\"Open In Colab\"/></a>"
      ]
    },
    {
      "cell_type": "code",
      "execution_count": null,
      "metadata": {
        "colab": {
          "base_uri": "https://localhost:8080/"
        },
        "id": "F0FM1D_9lZXj",
        "outputId": "ec719abe-bba2-4125-fe49-a4dcbf6b9184"
      },
      "outputs": [
        {
          "output_type": "stream",
          "name": "stdout",
          "text": [
            "Guido Van Rossum, please come to dinner.\n",
            "Jack Turner, please come to dinner.\n",
            "Lynn Hill, please come to dinner.\n"
          ]
        }
      ],
      "source": [
        "guests = ['guido van rossum', 'jack turner', 'lynn hill']\n",
        "\n",
        "name_zaiba = guests[0].title()\n",
        "print(f\"{name_zaiba}, please come to dinner.\")\n",
        "\n",
        "name_zaiba = guests[1].title()\n",
        "print(f\"{name_zaiba}, please come to dinner.\")\n",
        "\n",
        "name_zaiba = guests[2].title()\n",
        "print(f\"{name_zaiba}, please come to dinner.\")"
      ]
    },
    {
      "cell_type": "markdown",
      "source": [
        "If you could invite anyone, living or deceased, to dinner, who would you invite? Make a list that includes at least three people you’d like to invite to dinner. Then use your list to print a message to each person, inviting them to dinner."
      ],
      "metadata": {
        "id": "twdUlqZXmI8o"
      }
    }
  ]
}