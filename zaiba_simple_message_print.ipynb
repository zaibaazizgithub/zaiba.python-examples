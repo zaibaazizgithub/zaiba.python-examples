{
  "nbformat": 4,
  "nbformat_minor": 0,
  "metadata": {
    "colab": {
      "provenance": [],
      "authorship_tag": "ABX9TyN4fD35r2VC+4hBLdqKcS2x",
      "include_colab_link": true
    },
    "kernelspec": {
      "name": "python3",
      "display_name": "Python 3"
    },
    "language_info": {
      "name": "python"
    }
  },
  "cells": [
    {
      "cell_type": "markdown",
      "metadata": {
        "id": "view-in-github",
        "colab_type": "text"
      },
      "source": [
        "<a href=\"https://colab.research.google.com/github/zaibaazizgithub/zaiba.python-examples/blob/main/zaiba_simple_message_print.ipynb\" target=\"_parent\"><img src=\"https://colab.research.google.com/assets/colab-badge.svg\" alt=\"Open In Colab\"/></a>"
      ]
    },
    {
      "cell_type": "code",
      "execution_count": null,
      "metadata": {
        "colab": {
          "base_uri": "https://localhost:8080/"
        },
        "id": "_O-BcmlYCR7O",
        "outputId": "d33e96ac-4390-4713-9a36-c2625d8dc416"
      },
      "outputs": [
        {
          "output_type": "stream",
          "name": "stdout",
          "text": [
            "I love learning to use Python.\n",
            "It's really satisfying!\n"
          ]
        }
      ],
      "source": [
        "msg_zaiba = \"I love learning to use Python.\"\n",
        "print(msg_zaiba)\n",
        "\n",
        "msg_zaiba = \"It's really satisfying!\"\n",
        "print(msg_zaiba)"
      ]
    }
  ]
}