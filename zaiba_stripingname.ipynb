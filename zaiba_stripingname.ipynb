{
  "nbformat": 4,
  "nbformat_minor": 0,
  "metadata": {
    "colab": {
      "provenance": [],
      "authorship_tag": "ABX9TyMAdXxUGX86kFB8mN18N+vk",
      "include_colab_link": true
    },
    "kernelspec": {
      "name": "python3",
      "display_name": "Python 3"
    },
    "language_info": {
      "name": "python"
    }
  },
  "cells": [
    {
      "cell_type": "markdown",
      "metadata": {
        "id": "view-in-github",
        "colab_type": "text"
      },
      "source": [
        "<a href=\"https://colab.research.google.com/github/zaibaazizgithub/zaiba.python-examples/blob/main/zaiba_stripingname.ipynb\" target=\"_parent\"><img src=\"https://colab.research.google.com/assets/colab-badge.svg\" alt=\"Open In Colab\"/></a>"
      ]
    },
    {
      "cell_type": "code",
      "execution_count": null,
      "metadata": {
        "colab": {
          "base_uri": "https://localhost:8080/"
        },
        "id": "vwwLmhO52K3V",
        "outputId": "fa75a691-eed3-4483-eb0b-8867f9e87f2e"
      },
      "outputs": [
        {
          "output_type": "stream",
          "name": "stdout",
          "text": [
            "Unmodified:\n",
            "\\Zaiba aziz\n",
            "\n",
            "\n",
            "Using lstrip():\n",
            "\\Zaiba aziz\n",
            "\n",
            "\n",
            "Using rstrip():\n",
            "\\Zaiba aziz\n",
            "\n",
            "Using strip():\n",
            "\\Zaiba aziz\n"
          ]
        }
      ],
      "source": [
        "name_zaiba = \"\\Zaiba aziz\\n\"\n",
        "\n",
        "print(\"Unmodified:\")\n",
        "print(name_zaiba)\n",
        "\n",
        "print(\"\\nUsing lstrip():\")\n",
        "print(name_zaiba.lstrip())\n",
        "\n",
        "print(\"\\nUsing rstrip():\")\n",
        "print(name_zaiba.rstrip())\n",
        "\n",
        "print(\"\\nUsing strip():\")\n",
        "print(name_zaiba.strip())"
      ]
    },
    {
      "cell_type": "markdown",
      "source": [
        "2-7: Stripping Names\n",
        "Use a variable to represent a person’s name, and include some whitespace characters at the beginning and end of the name. Make sure you use each character combination, “\\t” and “\\n”, at least once.\n",
        "\n",
        "Print the name once, so the whitespace around the name is displayed. Then print the name using each of the three stripping functions, lstrip(), rstrip(), and strip()."
      ],
      "metadata": {
        "id": "fcen3I-R21Bh"
      }
    }
  ]
}