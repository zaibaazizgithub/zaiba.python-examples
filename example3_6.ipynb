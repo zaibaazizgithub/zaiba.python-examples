{
  "nbformat": 4,
  "nbformat_minor": 0,
  "metadata": {
    "colab": {
      "provenance": [],
      "authorship_tag": "ABX9TyM0PQAd7eGPscoFTrxe1MYv",
      "include_colab_link": true
    },
    "kernelspec": {
      "name": "python3",
      "display_name": "Python 3"
    },
    "language_info": {
      "name": "python"
    }
  },
  "cells": [
    {
      "cell_type": "markdown",
      "metadata": {
        "id": "view-in-github",
        "colab_type": "text"
      },
      "source": [
        "<a href=\"https://colab.research.google.com/github/zaibaazizgithub/zaiba.python-examples/blob/main/example3_6.ipynb\" target=\"_parent\"><img src=\"https://colab.research.google.com/assets/colab-badge.svg\" alt=\"Open In Colab\"/></a>"
      ]
    },
    {
      "cell_type": "code",
      "execution_count": null,
      "metadata": {
        "id": "fubqzQYur0D_",
        "colab": {
          "base_uri": "https://localhost:8080/"
        },
        "outputId": "7dbffb13-1468-4cfb-fdb9-a4ad35419ca7"
      },
      "outputs": [
        {
          "output_type": "stream",
          "name": "stdout",
          "text": [
            "Saif Ullah, please come to dinner.\n",
            "Sami Ullah, please come to dinner.\n",
            "Abdul Hadi, please come to dinner.\n",
            "\n",
            "Sorry, Sami Ullah can't make it to dinner.\n",
            "\n",
            "Saif Ullah, please come to dinner.\n",
            "Asad Ullah, please come to dinner.\n",
            "Abdul Hadi, please come to dinner.\n",
            "\n",
            "We got a bigger table!\n",
            "Hina, please come to dinner.\n",
            "Saif Ullah, please come to dinner.\n",
            "Rimsha, please come to dinner.\n",
            "Asad Ullah, please come to dinner.\n",
            "Abdul Hadi, please come to dinner.\n",
            "Ajwa, please come to dinner.\n"
          ]
        }
      ],
      "source": [
        "# Invite some people to dinner.\n",
        "guests = ['saif ullah', 'sami ullah', 'abdul hadi']\n",
        "\n",
        "name_zaiba = guests[0].title()\n",
        "print(f\"{name_zaiba}, please come to dinner.\")\n",
        "\n",
        "name_zaiba = guests[1].title()\n",
        "print(f\"{name_zaiba}, please come to dinner.\")\n",
        "\n",
        "name_zaiba = guests[2].title()\n",
        "print(f\"{name_zaiba}, please come to dinner.\")\n",
        "\n",
        "name_zaiba = guests[1].title()\n",
        "print(f\"\\nSorry, {name_zaiba} can't make it to dinner.\")\n",
        "\n",
        "# Jack can't make it! Let's invite Gary instead.\n",
        "del(guests[1])\n",
        "guests.insert(1, 'asad ullah')\n",
        "\n",
        "# Print the invitations again.\n",
        "name_zaiba = guests[0].title()\n",
        "print(f\"\\n{name_zaiba}, please come to dinner.\")\n",
        "\n",
        "name_zaiba = guests[1].title()\n",
        "print(f\"{name_zaiba}, please come to dinner.\")\n",
        "\n",
        "name_zaiba = guests[2].title()\n",
        "print(f\"{name_zaiba}, please come to dinner.\")\n",
        "\n",
        "# We got a bigger table, so let's add some more people to the list.\n",
        "print(\"\\nWe got a bigger table!\")\n",
        "guests.insert(0, 'hina')\n",
        "guests.insert(2, 'rimsha')\n",
        "guests.append('Ajwa')\n",
        "\n",
        "name_zaiba = guests[0].title()\n",
        "print(f\"{name_zaiba}, please come to dinner.\")\n",
        "\n",
        "name_zaiba = guests[1].title()\n",
        "print(f\"{name_zaiba}, please come to dinner.\")\n",
        "\n",
        "name_zaiba = guests[2].title()\n",
        "print(f\"{name_zaiba}, please come to dinner.\")\n",
        "\n",
        "name_zaiba = guests[3].title()\n",
        "print(f\"{name_zaiba}, please come to dinner.\")\n",
        "\n",
        "name_zaiba = guests[4].title()\n",
        "print(f\"{name_zaiba}, please come to dinner.\")\n",
        "\n",
        "name_zaiba = guests[5].title()\n",
        "print(f\"{name_zaiba}, please come to dinner.\")"
      ]
    },
    {
      "cell_type": "markdown",
      "source": [
        "3-6: More Guests\n",
        "You just found a bigger dinner table, so now more space is available. Think of three more guests to invite to dinner.\n",
        "\n",
        "Start with your program from Exercise 3-4 or Exercise 3-5. Add a print statement to the end of your program informing people that you found a bigger dinner table.\n",
        "Use insert() to add one new guest to the beginning of your list.\n",
        "Use insert() to add one new guest to the middle of your list.\n",
        "Use append() to add one new guest to the end of your list. Print a new set of invitation messages, one for each person in your list."
      ],
      "metadata": {
        "id": "dXW-raHFwlep"
      }
    }
  ]
}