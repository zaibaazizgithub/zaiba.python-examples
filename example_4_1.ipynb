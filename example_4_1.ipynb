{
  "nbformat": 4,
  "nbformat_minor": 0,
  "metadata": {
    "colab": {
      "provenance": [],
      "authorship_tag": "ABX9TyNXMNB+a9CtEuUzxNPvARzm",
      "include_colab_link": true
    },
    "kernelspec": {
      "name": "python3",
      "display_name": "Python 3"
    },
    "language_info": {
      "name": "python"
    }
  },
  "cells": [
    {
      "cell_type": "markdown",
      "metadata": {
        "id": "view-in-github",
        "colab_type": "text"
      },
      "source": [
        "<a href=\"https://colab.research.google.com/github/zaibaazizgithub/zaiba.python-examples/blob/main/example_4_1.ipynb\" target=\"_parent\"><img src=\"https://colab.research.google.com/assets/colab-badge.svg\" alt=\"Open In Colab\"/></a>"
      ]
    },
    {
      "cell_type": "code",
      "execution_count": 1,
      "metadata": {
        "colab": {
          "base_uri": "https://localhost:8080/"
        },
        "id": "Ykw0S7xc45lv",
        "outputId": "5613454f-291a-4013-af29-3fc5b62664f5"
      },
      "outputs": [
        {
          "output_type": "stream",
          "name": "stdout",
          "text": [
            "tikka\n",
            "shahi\n",
            "bonfire\n",
            "\n",
            "\n",
            "I really love tikka pizza_zaiba!\n",
            "I really love shahi pizza_zaiba!\n",
            "I really love bonfire pizza_zaiba!\n",
            "\n",
            "I really love pizza_zaiba!\n"
          ]
        }
      ],
      "source": [
        "favorite_pizzas_zaiba = ['tikka', 'shahi', 'bonfire']\n",
        "\n",
        "# Print the names of all the pizzas.\n",
        "for pizza_zaiba in favorite_pizzas_zaiba:\n",
        "    print(pizza_zaiba)\n",
        "\n",
        "print(\"\\n\")\n",
        "\n",
        "# Print a sentence about each pizza_zaiba.\n",
        "for pizza_zaiba in favorite_pizzas_zaiba:\n",
        "    print(f\"I really love {pizza_zaiba} pizza_zaiba!\")\n",
        "\n",
        "print(\"\\nI really love pizza_zaiba!\")"
      ]
    },
    {
      "cell_type": "markdown",
      "source": [
        "4-1: Pizzas\n",
        "Think of at least three kinds of your favorite pizza. Store these pizza names in a list, and then use a for loop to print the name of each pizza.\n",
        "\n",
        "Modify your for loop to print a sentence using the name of the pizza instead of printing just the name of the pizza. For each pizza you should have one line of output containing a simple statement like I like pepperoni pizza.\n",
        "Add a line at the end of your program, outside the for loop, that states how much you like pizza. The output should consist of three or more lines about the kinds of pizza you like and then an additional sentence, such as I really love pizza!"
      ],
      "metadata": {
        "id": "UYkvEj8Q5-M4"
      }
    }
  ]
}